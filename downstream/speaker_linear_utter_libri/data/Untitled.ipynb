{
 "cells": [
  {
   "cell_type": "code",
   "execution_count": null,
   "id": "6c3864eb",
   "metadata": {},
   "outputs": [],
   "source": [
    "import scipy.io\n",
    "import csv\n",
    "import pandas as pd\n",
    "train_list=[7, 0, 45, 29, 74, 36, 38, 66, 60, 40, 13, 2, 4, 39, 71, 41, 51, 18, 44, 1, 52, 68, 33, 17, 46, 26, 19, 73, 61, 55, 16, 57, 63, 23, 14, 5, 67, 72, 27, 65, 32, 48, 21, 31, 64, 30, 20, 56, 9, 22]\n",
    "dev_list=[15, 28, 47, 43, 37, 58, 35, 59, 6, 12]\n",
    "test_list=[70, 24, 62, 3, 49, 11, 69, 34, 54, 25, 53, 42, 50, 10, 8]\n",
    "import scipy.io\n",
    "\n",
    "import os\n",
    "import random\n",
    "#-------------#\n",
    "import pandas as pd\n",
    "#-------------#\n",
    "import torch\n",
    "from torch.nn.utils.rnn import pad_sequence\n",
    "from torch.utils.data.dataset import Dataset\n",
    "#-------------#\n",
    "import torchaudio\n",
    "import csv\n",
    "HALF_BATCHSIZE_TIME=30000\n",
    "\n",
    "\n",
    "data_ECoG_ch1= scipy.io.loadmat('/home/negiryosuke/try/s3prl-master/s3prl/data_ECoG/Session1/ECoG_ch1.mat')\n",
    "type(data_ECoG_ch1)"
   ]
  },
  {
   "cell_type": "code",
   "execution_count": 6,
   "id": "b0273967",
   "metadata": {},
   "outputs": [
    {
     "data": {
      "text/plain": [
       "\"\\n    for j in test_list:\\n        _outpath_test=root+'train/'+str(k)\\n        if not os.path.isdir(_outpath_test):\\n            os.makedirs(_outpath_test)\\n        outpath=_outpath_test+'/'+str(k)+'-'+str(j)\\n        out_data=data[j:j+30000]\\n        out_data = torch.tensor(out_data)\\n        torch.save(out_data, outpath+'.pt')\\n\""
      ]
     },
     "execution_count": 6,
     "metadata": {},
     "output_type": "execute_result"
    }
   ],
   "source": [
    "import scipy.io\n",
    "import csv\n",
    "import pandas as pd\n",
    "train_list=[7, 0, 45, 29, 74, 36, 38, 66, 60, 40, 13, 2, 4, 39, 71, 41, 51, 18, 44, 1, 52, 68, 33, 17, 46, 26, 19, 73, 61, 55, 16, 57, 63, 23, 14, 5, 67, 72, 27, 65, 32, 48, 21, 31, 64, 30, 20, 56, 9, 22]\n",
    "dev_list=[15, 28, 47, 43, 37, 58, 35, 59, 6, 12]\n",
    "test_list=[70, 24, 62, 3, 49, 11, 69, 34, 54, 25, 53, 42, 50, 10, 8]\n",
    "import scipy.io\n",
    "\n",
    "import os\n",
    "import random\n",
    "#-------------#\n",
    "import pandas as pd\n",
    "#-------------#\n",
    "import torch\n",
    "from torch.nn.utils.rnn import pad_sequence\n",
    "from torch.utils.data.dataset import Dataset\n",
    "#-------------#\n",
    "import torchaudio\n",
    "import csv\n",
    "HALF_BATCHSIZE_TIME=30000\n",
    "\n",
    "#rootpath='Session1/'\n",
    "root='/home/negiryosuke/try/s3prl-master/s3prl/E_data5/'\n",
    "n=30000\n",
    "lists_ECoG_re_reference=[]\n",
    "num_list_re_reference1=[1,3,5,7,9,11,13,14,16,18,20,23,25,27,29,31,33,34,36,38,40,42,45,47,49,52,54,56,59,63,65,69,71,74,76,78,80,82,84,86,88,90,92,94,96,99,101,103,105,107,109,111,113,115,117,119,121,123,125,127]\n",
    "num_list_re_reference2=[2,4,6,8,10,12,22,15,17,19,21,24,26,28,30,32,44,35,37,39,41,43,46,48,50,58,55,57,60,64,66,70,72,75,77,79,81,83,85,87,89,91,93,95,97,100,102,104,106,108,110,112,114,116,118,120,122,124,126,128]\n",
    "f = open('train.txt', 'w')\n",
    "for k in range(len(num_list_re_reference1)):\n",
    "    for j in train_list:\n",
    "        outpath=str(k)+'-'+str(j)\n",
    "        outpath=str(outpath)\n",
    "        f.writelines(outpath+'\\n')\n",
    "f.close()\n",
    "\n",
    "f = open('test.txt', 'w')\n",
    "for k in range(len(num_list_re_reference1)):\n",
    "    for j in test_list:\n",
    "        outpath=str(k)+'-'+str(j)\n",
    "        outpath=str(outpath)\n",
    "        f.writelines(outpath+'\\n')\n",
    "f.close()\n",
    "'''\n",
    "    for j in test_list:\n",
    "        _outpath_test=root+'train/'+str(k)\n",
    "        if not os.path.isdir(_outpath_test):\n",
    "            os.makedirs(_outpath_test)\n",
    "        outpath=_outpath_test+'/'+str(k)+'-'+str(j)\n",
    "        out_data=data[j:j+30000]\n",
    "        out_data = torch.tensor(out_data)\n",
    "        torch.save(out_data, outpath+'.pt')\n",
    "'''"
   ]
  },
  {
   "cell_type": "code",
   "execution_count": null,
   "id": "5e4be473",
   "metadata": {},
   "outputs": [],
   "source": []
  }
 ],
 "metadata": {
  "kernelspec": {
   "display_name": "Python 3 (ipykernel)",
   "language": "python",
   "name": "python3"
  },
  "language_info": {
   "codemirror_mode": {
    "name": "ipython",
    "version": 3
   },
   "file_extension": ".py",
   "mimetype": "text/x-python",
   "name": "python",
   "nbconvert_exporter": "python",
   "pygments_lexer": "ipython3",
   "version": "3.9.7"
  }
 },
 "nbformat": 4,
 "nbformat_minor": 5
}
