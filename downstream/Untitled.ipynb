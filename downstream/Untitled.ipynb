{
 "cells": [
  {
   "cell_type": "code",
   "execution_count": 5,
   "id": "101d8ce6",
   "metadata": {},
   "outputs": [
    {
     "data": {
      "text/plain": [
       "<module 'speaker_linear_utter_libri.expert' from '/home/negiryosuke/refine/s3prl/downstream/speaker_linear_utter_libri/expert.py'>"
      ]
     },
     "execution_count": 5,
     "metadata": {},
     "output_type": "execute_result"
    }
   ],
   "source": [
    "from importlib import reload\n",
    "import speaker_linear_utter_libri.expert# >= python 3.4\n",
    "reload(speaker_linear_utter_libri.expert)"
   ]
  },
  {
   "cell_type": "code",
   "execution_count": null,
   "id": "7d248108",
   "metadata": {},
   "outputs": [],
   "source": []
  }
 ],
 "metadata": {
  "kernelspec": {
   "display_name": "Python 3 (ipykernel)",
   "language": "python",
   "name": "python3"
  },
  "language_info": {
   "codemirror_mode": {
    "name": "ipython",
    "version": 3
   },
   "file_extension": ".py",
   "mimetype": "text/x-python",
   "name": "python",
   "nbconvert_exporter": "python",
   "pygments_lexer": "ipython3",
   "version": "3.9.7"
  }
 },
 "nbformat": 4,
 "nbformat_minor": 5
}
