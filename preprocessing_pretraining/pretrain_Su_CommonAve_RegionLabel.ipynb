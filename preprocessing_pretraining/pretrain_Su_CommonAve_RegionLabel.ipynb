{
 "cells": [
  {
   "cell_type": "markdown",
   "id": "bf5e6e77",
   "metadata": {},
   "source": [
    "http://neurotycho.org/expdatalist/listview?task=78の\n",
    "20110526KTMD_Anesthesia+and+Sleep_Su_Toru+Yanagawa_mat_ECoG128\n",
    "を\n",
    "$share/ECoGなどと名付けたフォルダ内にダウンロードする。"
   ]
  },
  {
   "cell_type": "code",
   "execution_count": null,
   "id": "8c42a2ce",
   "metadata": {},
   "outputs": [],
   "source": [
    "#ダウンロードしたファイルをtrainとdevとtestに分ける\n",
    "import scipy.io\n",
    "import csv\n",
    "import pandas as pd\n",
    "import numpy as np\n",
    "import scipy.io\n",
    "import os\n",
    "import random\n",
    "import pandas as pd\n",
    "import torch\n",
    "import torchaudio\n",
    "import csv\n",
    "dataroot='$share/ECoG/20110526KTMD_Anesthesia+and+Sleep_Su_Toru+Yanagawa_mat_ECoG128/Session1/'\n",
    "root='$share/ECoG_trainig/Su_20110526_session1_CommonAve_ReginLabel/'\n",
    "test_list=[ 24, 62, 3, 49, 11,  34, 54, 25, 53, 42, 50, 10, 8]\n",
    "train_list=[7, 0, 45, 29, 36, 38, 66, 60, 40, 13, 2, 4, 39, 41, 51, 18, 44, 1, 52,  33, 17, 46, 26, 19,  61, 55, 16, 57, 63, 23, 14, 5, 67,  27, 65, 32, 48, 21, 31, 64, 30, 20, 56, 9, 22,15, 28, 47, 43, 37, 58, 35, 59, 6, 12]\n",
    "\n",
    "region=[\n",
    "    [1,2,3,4,5,6,9,10,11,12,13,14,17,18,19,20,26,27],#LP\n",
    "    [7,8,15,16,21,22,28,29,36,37,47,48,65,66],#PM\n",
    "    [23,24,25,30,31,32,33,34,35,38,39,40,41,49,50,58,59],#MS\n",
    "    [42,43,44,45,46,51,52,53,54,55,60,61,62,63,64],#PC\n",
    "    [56,57,67,68,69,70,74,75,76,77,95,96,107,108,109,110,122,123,124,125,126,127,128],#TC\n",
    "    [71,72,78,79,80,81,97,98,99,100,112,113,114,115,116],#HV\n",
    "    [73,83,84,85,86,87,88,89,90,82,91,92,93,94,102,103,104,105,106,117,118,119,120,121]\n",
    "]\n",
    "electrodes=[region[i][j] for i in range(len(region)) for j in range(len(region[i])) ]\n",
    "num_electrodes=len(electrodes)\n",
    "#print(electrodes,num_electrodes)\n",
    "path=dataroot+'ECoG_ch1'+'.mat'\n",
    "data_ECoG_ch= scipy.io.loadmat(path)\n",
    "data=data_ECoG_ch['ECoGData_ch1'][0]\n",
    "len_data=len(data)\n",
    "lists_ECoG_CommonAve = np.array([0 for i in range(len_data)])\n",
    "#num_CommonAve=np.array([i+1 for i in range(num_electrodes)])\n",
    "\n",
    "for k in electrodes:\n",
    "    num=k\n",
    "    path=dataroot+'ECoG_ch'+str(num)+'.mat'\n",
    "    data_ECoG_ch= scipy.io.loadmat(path)\n",
    "    arg='ECoGData_ch'+str(num)    \n",
    "    data=data_ECoG_ch[arg][0]\n",
    "    print('data'+str(k),data)\n",
    "    data=np.array(data[:2700000])\n",
    "    lists_ECoG_CommonAve +=data\n",
    "    #print('lists_ECoG_CommonAve'+str(k),lists_ECoG_CommonAve)\n",
    "lists_ECoG_CommonAve=lists_ECoG_CommonAve/num_electrodes\n",
    "#print('lists_ECoG_CommonAve',lists_ECoG_CommonAve)\n",
    "\n",
    "for k in electrodes:\n",
    "    num=k\n",
    "    path=dataroot+'ECoG_ch'+str(num)+'.mat'\n",
    "    data_ECoG_ch= scipy.io.loadmat(path)\n",
    "    arg='ECoGData_ch'+str(num)    \n",
    "    data=data_ECoG_ch[arg][0]\n",
    "    data=np.array(data[:2700000])\n",
    "    data=data-lists_ECoG_CommonAve\n",
    "    #print('lists_ECoG_CommonAve',lists_ECoG_CommonAve)\n",
    "    #print('data'+str(k),data)\n",
    "    for j in train_list:\n",
    "        for i in range(len(region)):\n",
    "            if k in region[i]:\n",
    "                outpath=root+'train/'+str(i)+'/'+str(i)+'-'+str(k)+'-'+str(j)\n",
    "                print('outpath',outpath)\n",
    "        if not os.path.isdir(outpath):\n",
    "            os.makedirs(outpath)\n",
    "        out_data=data[j*30000:j*30000+30000]\n",
    "        out_data = torch.tensor(out_data)\n",
    "        print('out_data',out_data)\n",
    "        torch.save(out_data, outpath+'.pt')         \n",
    "    for j in test_list:\n",
    "        for i in range(len(region)):\n",
    "            if k in region[i]:\n",
    "                outpath=root+'test/'+str(i)+'/'+str(i)+'-'+str(k)+'-'+str(j)\n",
    "                print('outpath',outpath)\n",
    "        if not os.path.isdir(outpath):\n",
    "            os.makedirs(outpath)\n",
    "        out_data=data[j*30000:j*30000+30000]\n",
    "        out_data = torch.tensor(out_data)\n",
    "        print('out_data',out_data)\n",
    "        torch.save(out_data, outpath+'.pt')\n",
    "\n",
    "        "
   ]
  },
  {
   "cell_type": "markdown",
   "id": "583c141e",
   "metadata": {},
   "source": [
    "python $share/preprocess/generate_len_for_bucket_ECoG_preprocess_pretrain.py\n",
    "を修正した後ターミナル上で実行\n",
    "#ダウンロードしたファイルをtrainとdevとtestに分けた後、bucketfileを作る。"
   ]
  },
  {
   "cell_type": "markdown",
   "id": "f18f6096",
   "metadata": {},
   "source": [
    "$share/pretrain/tera/config_runner.yamlのrootを変更"
   ]
  },
  {
   "cell_type": "markdown",
   "id": "3ab77904",
   "metadata": {},
   "source": [
    "python run_pretrain.py -u tera -g pretrain/tera/config_model.yaml -n '保存フォルダ名'\n",
    "を実行"
   ]
  }
 ],
 "metadata": {
  "kernelspec": {
   "display_name": "Python 3 (ipykernel)",
   "language": "python",
   "name": "python3"
  },
  "language_info": {
   "codemirror_mode": {
    "name": "ipython",
    "version": 3
   },
   "file_extension": ".py",
   "mimetype": "text/x-python",
   "name": "python",
   "nbconvert_exporter": "python",
   "pygments_lexer": "ipython3",
   "version": "3.9.7"
  }
 },
 "nbformat": 4,
 "nbformat_minor": 5
}
