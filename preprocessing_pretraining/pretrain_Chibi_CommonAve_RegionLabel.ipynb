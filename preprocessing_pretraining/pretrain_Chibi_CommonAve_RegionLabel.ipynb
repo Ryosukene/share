{
 "cells": [
  {
   "cell_type": "markdown",
   "id": "1f08ad5f",
   "metadata": {},
   "source": [
    "http://neurotycho.org/expdatalist/listview?task=78の\n",
    "20120730PF_Anesthesia+and+Sleep_Chibi_Toru+Yanagawa_mat_ECoG128\n",
    "を\n",
    "$share/ECoGなどと名付けたフォルダ内にダウンロードする。"
   ]
  },
  {
   "cell_type": "code",
   "execution_count": null,
   "id": "8c42a2ce",
   "metadata": {},
   "outputs": [],
   "source": [
    "#ダウンロードしたファイルをtrainとdevとtestに分ける\n",
    "import scipy.io\n",
    "import csv\n",
    "import pandas as pd\n",
    "import numpy as np\n",
    "import scipy.io\n",
    "import os\n",
    "import random\n",
    "import pandas as pd\n",
    "import torch\n",
    "import torchaudio\n",
    "import csv\n",
    "dataroot='$share/ECoG/20120730PF_Anesthesia+and+Sleep_Chibi_Toru+Yanagawa_mat_ECoG128/Session1/'\n",
    "root='$share/ECoG_training/Chibi_20120730_session1_CommonAve_ReginLabel/'\n",
    "test_list=[ 24, 62, 3, 49, 11,  34, 54, 25, 53, 42, 50, 10, 8]\n",
    "train_list=[7, 0, 45, 29, 36, 38, 66, 60, 40, 13, 2, 4, 39, 41, 51, 18, 44, 1, 52,  33, 17, 46, 26, 19,  61, 55, 16, 57, 63, 23, 14, 5, 67,  27, 65, 32, 48, 21, 31, 64, 30, 20, 56, 9, 22,15, 28, 47, 43, 37, 58, 35, 59, 6, 12]\n",
    "\n",
    "region=[\n",
    "    [5,6,14,15,23,24,25,26,34,35,36,37,45,46,47,48,49,105],#LP\n",
    "    [7,16,17,27,28,38,39,50,51,55,62,92,93,94,107],#PM\n",
    "    [8,9,10,18,19,20,29,30,31,40,41,42,43,95,108,125,126,127,128],#MS\n",
    "    [1,2,3,4,11,12,21,22,33,32,44,121,122,123,124],#PC\n",
    "    [65,66,67,68,69,70,71,80,81,82,83,96,97,98],#TC\n",
    "    [13,72,73,84,85,86,87,99,100,109,110],#HV\n",
    "    [74,75,76,77,78,79,88,89,90,91,101,102,103,104,111,112,113,114,115,116,117,118,119,120]\n",
    "]\n",
    "electrodes=[region[i][j] for i in range(len(region)) for j in range(len(region[i])) ]\n",
    "num_electrodes=len(electrodes)\n",
    "#print(electrodes,num_electrodes)\n",
    "path=dataroot+'ECoG_ch1'+'.mat'\n",
    "data_ECoG_ch= scipy.io.loadmat(path)\n",
    "data=data_ECoG_ch['ECoGData_ch1'][0]\n",
    "len_data=len(data)\n",
    "lists_ECoG_CommonAve = np.array([0 for i in range(len_data)])\n",
    "#num_CommonAve=np.array([i+1 for i in range(num_electrodes)])\n",
    "\n",
    "for k in electrodes:\n",
    "    num=k\n",
    "    path=dataroot+'ECoG_ch'+str(num)+'.mat'\n",
    "    data_ECoG_ch= scipy.io.loadmat(path)\n",
    "    arg='ECoGData_ch'+str(num)    \n",
    "    data=data_ECoG_ch[arg][0]\n",
    "    print('data'+str(k),data)\n",
    "    data=np.array(data[:2500000])\n",
    "    lists_ECoG_CommonAve +=data\n",
    "    #print('lists_ECoG_CommonAve'+str(k),lists_ECoG_CommonAve)\n",
    "lists_ECoG_CommonAve=lists_ECoG_CommonAve/num_electrodes\n",
    "#print('lists_ECoG_CommonAve',lists_ECoG_CommonAve)\n",
    "\n",
    "for k in electrodes:\n",
    "    num=k\n",
    "    path=dataroot+'ECoG_ch'+str(num)+'.mat'\n",
    "    data_ECoG_ch= scipy.io.loadmat(path)\n",
    "    arg='ECoGData_ch'+str(num)    \n",
    "    data=data_ECoG_ch[arg][0]\n",
    "    data=np.array(data[:2500000])\n",
    "    data=data-lists_ECoG_CommonAve\n",
    "    #print('lists_ECoG_CommonAve',lists_ECoG_CommonAve)\n",
    "    #print('data'+str(k),data)\n",
    "    for j in train_list:\n",
    "        for i in range(len(region)):\n",
    "            if k in region[i]:\n",
    "                outpath=root+'train/'+str(i)+'/'+str(i)+'-'+str(k)+'-'+str(j)\n",
    "                print('outpath',outpath)\n",
    "        if not os.path.isdir(outpath):\n",
    "            os.makedirs(outpath)\n",
    "        out_data=data[j*30000:j*30000+30000]\n",
    "        out_data = torch.tensor(out_data)\n",
    "        print('out_data',out_data)\n",
    "        torch.save(out_data, outpath+'.pt')         \n",
    "    for j in test_list:\n",
    "        for i in range(len(region)):\n",
    "            if k in region[i]:\n",
    "                outpath=root+'test/'+str(i)+'/'+str(i)+'-'+str(k)+'-'+str(j)\n",
    "                print('outpath',outpath)\n",
    "        if not os.path.isdir(outpath):\n",
    "            os.makedirs(outpath)\n",
    "        out_data=data[j*30000:j*30000+30000]\n",
    "        out_data = torch.tensor(out_data)\n",
    "        print('out_data',out_data)\n",
    "        torch.save(out_data, outpath+'.pt')\n",
    "\n",
    "        "
   ]
  },
  {
   "cell_type": "markdown",
   "id": "46f7d848",
   "metadata": {},
   "source": [
    "python $share/preprocess/generate_len_for_bucket_ECoG_preprocess_pretrain.py\n",
    "を修正した後ターミナル上で実行\n",
    "#ダウンロードしたファイルをtrainとdevとtestに分けた後、bucketfileを作る。"
   ]
  },
  {
   "cell_type": "markdown",
   "id": "274c7b06",
   "metadata": {},
   "source": [
    "$share/pretrain/tera/config_runner.yamlのrootを変更"
   ]
  },
  {
   "cell_type": "markdown",
   "id": "537c05f8",
   "metadata": {},
   "source": [
    "refine/s3prl/pretrain/tera/config_runner.yamlのrootを変更"
   ]
  },
  {
   "cell_type": "markdown",
   "id": "ab886849",
   "metadata": {},
   "source": [
    "python run_pretrain.py -u tera -g pretrain/tera/config_model.yaml -n '保存フォルダ名'\n",
    "を実行"
   ]
  }
 ],
 "metadata": {
  "kernelspec": {
   "display_name": "Python 3 (ipykernel)",
   "language": "python",
   "name": "python3"
  },
  "language_info": {
   "codemirror_mode": {
    "name": "ipython",
    "version": 3
   },
   "file_extension": ".py",
   "mimetype": "text/x-python",
   "name": "python",
   "nbconvert_exporter": "python",
   "pygments_lexer": "ipython3",
   "version": "3.9.7"
  }
 },
 "nbformat": 4,
 "nbformat_minor": 5
}
