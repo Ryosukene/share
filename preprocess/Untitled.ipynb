{
 "cells": [
  {
   "cell_type": "code",
   "execution_count": 1,
   "id": "81daae73",
   "metadata": {},
   "outputs": [
    {
     "name": "stdout",
     "output_type": "stream",
     "text": [
      "################################################################################\n",
      "### WARNING, path does not exist: KALDI_ROOT=/mnt/matylda5/iveselyk/Tools/kaldi-trunk\n",
      "###          (please add 'export KALDI_ROOT=<your_path>' in your $HOME/.profile)\n",
      "###          (or run as: KALDI_ROOT=<your_path> python <your_script>.py)\n",
      "################################################################################\n",
      "\n",
      "SETS ['train', 'dev', 'test']\n",
      "\t 0 : train\n",
      "\t 1 : dev\n",
      "\t 2 : test\n",
      "Please enter the index of splits you wish to use preprocess. (seperate with space): ^C\n",
      "Traceback (most recent call last):\n",
      "  File \"/home/negiryosuke/try/s3prl-master/s3prl/preprocess/generate_len_for_bucket_ECoG4.py\", line 131, in <module>\n",
      "    main()\n",
      "  File \"/home/negiryosuke/try/s3prl-master/s3prl/preprocess/generate_len_for_bucket_ECoG4.py\", line 122, in main\n",
      "    tr_set = input('Please enter the index of splits you wish to use preprocess. (seperate with space): ')\n",
      "KeyboardInterrupt\n"
     ]
    }
   ],
   "source": [
    "!python3 generate_len_for_bucket_ECoG4.py  "
   ]
  },
  {
   "cell_type": "code",
   "execution_count": 4,
   "id": "c94ecf55",
   "metadata": {},
   "outputs": [
    {
     "name": "stdout",
     "output_type": "stream",
     "text": [
      "################################################################################\n",
      "### WARNING, path does not exist: KALDI_ROOT=/mnt/matylda5/iveselyk/Tools/kaldi-trunk\n",
      "###          (please add 'export KALDI_ROOT=<your_path>' in your $HOME/.profile)\n",
      "###          (or run as: KALDI_ROOT=<your_path> python <your_script>.py)\n",
      "################################################################################\n",
      "\n",
      "SETS ['train-clean-100', 'train-clean-360', 'train-other-500', 'dev-clean', 'dev-other', 'test-clean', 'test-other']\n",
      "\t 0 : train-clean-100\n",
      "\t 1 : train-clean-360\n",
      "\t 2 : train-other-500\n",
      "\t 3 : dev-clean\n",
      "\t 4 : dev-other\n",
      "\t 5 : test-clean\n",
      "\t 6 : test-other\n",
      "Please enter the index of splits you wish to use preprocess. (seperate with space): ^C\n",
      "Traceback (most recent call last):\n",
      "  File \"/home/negiryosuke/try/s3prl-master/s3prl/preprocess/generate_len_for_bucket.py\", line 115, in <module>\n",
      "    main()\n",
      "  File \"/home/negiryosuke/try/s3prl-master/s3prl/preprocess/generate_len_for_bucket.py\", line 106, in main\n",
      "    tr_set = input('Please enter the index of splits you wish to use preprocess. (seperate with space): ')\n",
      "KeyboardInterrupt\n"
     ]
    }
   ],
   "source": [
    "!python3 generate_len_for_bucket.py  "
   ]
  },
  {
   "cell_type": "code",
   "execution_count": 6,
   "id": "dbb7933a",
   "metadata": {},
   "outputs": [
    {
     "data": {
      "text/plain": [
       "30000"
      ]
     },
     "execution_count": 6,
     "metadata": {},
     "output_type": "execute_result"
    }
   ],
   "source": [
    "import torch\n",
    "input_file='/home/negiryosuke/try/s3prl-master/s3prl/E_data_torch/train/0.pt'\n",
    "t=torch.load(input_file)\n",
    "torch.numel(t)"
   ]
  },
  {
   "cell_type": "code",
   "execution_count": null,
   "id": "34c60248",
   "metadata": {},
   "outputs": [],
   "source": []
  }
 ],
 "metadata": {
  "kernelspec": {
   "display_name": "Python 3 (ipykernel)",
   "language": "python",
   "name": "python3"
  },
  "language_info": {
   "codemirror_mode": {
    "name": "ipython",
    "version": 3
   },
   "file_extension": ".py",
   "mimetype": "text/x-python",
   "name": "python",
   "nbconvert_exporter": "python",
   "pygments_lexer": "ipython3",
   "version": "3.9.7"
  }
 },
 "nbformat": 4,
 "nbformat_minor": 5
}
