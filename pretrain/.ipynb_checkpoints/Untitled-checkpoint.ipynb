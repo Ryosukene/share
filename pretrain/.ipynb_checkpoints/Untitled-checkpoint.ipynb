{
 "cells": [
  {
   "cell_type": "code",
   "execution_count": 1,
   "id": "a34fe7da",
   "metadata": {},
   "outputs": [
    {
     "name": "stdout",
     "output_type": "stream",
     "text": [
      "python: can't open file '/home/negiryosuke/try/s3prl-master/s3prl/pretrain/run_pretrain.py': [Errno 2] No such file or directory\r\n"
     ]
    }
   ],
   "source": [
    "!python run_pretrain.py -u tera -g pretrain/tera/config_model.yaml -n YourModelName\n"
   ]
  },
  {
   "cell_type": "code",
   "execution_count": null,
   "id": "31fd676c",
   "metadata": {},
   "outputs": [],
   "source": []
  }
 ],
 "metadata": {
  "kernelspec": {
   "display_name": "Python 3 (ipykernel)",
   "language": "python",
   "name": "python3"
  },
  "language_info": {
   "codemirror_mode": {
    "name": "ipython",
    "version": 3
   },
   "file_extension": ".py",
   "mimetype": "text/x-python",
   "name": "python",
   "nbconvert_exporter": "python",
   "pygments_lexer": "ipython3",
   "version": "3.9.7"
  }
 },
 "nbformat": 4,
 "nbformat_minor": 5
}
