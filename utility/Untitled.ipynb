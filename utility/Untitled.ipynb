{
 "cells": [
  {
   "cell_type": "code",
   "execution_count": 6,
   "id": "8c0aa679",
   "metadata": {},
   "outputs": [
    {
     "name": "stdout",
     "output_type": "stream",
     "text": [
      "Normalized weights:  [4.688925248075293e-09, 5.718676643340359e-09, 8.068149703888139e-09, 1.0]\r\n"
     ]
    }
   ],
   "source": [
    "! python visualize_weight.py --ckpt /home/negiryosuke/refine/s3prl/result/downstream/Kin2_session1_30s_split/cpt300000/states-600000.ckpt\n"
   ]
  },
  {
   "cell_type": "code",
   "execution_count": null,
   "id": "46f0684d",
   "metadata": {},
   "outputs": [],
   "source": []
  }
 ],
 "metadata": {
  "kernelspec": {
   "display_name": "Python 3 (ipykernel)",
   "language": "python",
   "name": "python3"
  },
  "language_info": {
   "codemirror_mode": {
    "name": "ipython",
    "version": 3
   },
   "file_extension": ".py",
   "mimetype": "text/x-python",
   "name": "python",
   "nbconvert_exporter": "python",
   "pygments_lexer": "ipython3",
   "version": "3.9.7"
  }
 },
 "nbformat": 4,
 "nbformat_minor": 5
}
