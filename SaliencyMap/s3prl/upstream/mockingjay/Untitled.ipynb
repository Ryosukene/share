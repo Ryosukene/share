{
 "cells": [
  {
   "cell_type": "code",
   "execution_count": 4,
   "id": "1eabe570",
   "metadata": {},
   "outputs": [
    {
     "ename": "ImportError",
     "evalue": "attempted relative import with no known parent package",
     "output_type": "error",
     "traceback": [
      "\u001b[0;31m---------------------------------------------------------------------------\u001b[0m",
      "\u001b[0;31mImportError\u001b[0m                               Traceback (most recent call last)",
      "Input \u001b[0;32mIn [4]\u001b[0m, in \u001b[0;36m<cell line: 14>\u001b[0;34m()\u001b[0m\n\u001b[1;32m     12\u001b[0m \u001b[38;5;28;01mfrom\u001b[39;00m \u001b[38;5;21;01mtorch\u001b[39;00m\u001b[38;5;21;01m.\u001b[39;00m\u001b[38;5;21;01mnn\u001b[39;00m\u001b[38;5;21;01m.\u001b[39;00m\u001b[38;5;21;01mutils\u001b[39;00m\u001b[38;5;21;01m.\u001b[39;00m\u001b[38;5;21;01mrnn\u001b[39;00m \u001b[38;5;28;01mimport\u001b[39;00m pad_sequence\n\u001b[1;32m     13\u001b[0m \u001b[38;5;28;01mimport\u001b[39;00m \u001b[38;5;21;01ms3prl\u001b[39;00m\u001b[38;5;21;01m.\u001b[39;00m\u001b[38;5;21;01moptimizers\u001b[39;00m\n\u001b[0;32m---> 14\u001b[0m \u001b[38;5;28;01mfrom\u001b[39;00m \u001b[38;5;21;01m.\u001b[39;00m\u001b[38;5;21;01m.\u001b[39;00m\u001b[38;5;21;01mbaseline\u001b[39;00m\u001b[38;5;21;01m.\u001b[39;00m\u001b[38;5;21;01mextracter\u001b[39;00m \u001b[38;5;28;01mimport\u001b[39;00m get_extracter\n\u001b[1;32m     15\u001b[0m \u001b[38;5;28;01mfrom\u001b[39;00m \u001b[38;5;21;01m.\u001b[39;00m\u001b[38;5;21;01m.\u001b[39;00m\u001b[38;5;21;01mbaseline\u001b[39;00m\u001b[38;5;21;01m.\u001b[39;00m\u001b[38;5;21;01mpreprocessor\u001b[39;00m \u001b[38;5;28;01mimport\u001b[39;00m get_preprocessor\n\u001b[1;32m     16\u001b[0m \u001b[38;5;66;03m#from s3prl_master.s3prl.upstream.baseline.preprocessor import get_preprocessor\u001b[39;00m\n\u001b[1;32m     17\u001b[0m \u001b[38;5;66;03m#from .model import TransformerConfig, TransformerModel, TransformerSpecPredictionHead\u001b[39;00m\n",
      "\u001b[0;31mImportError\u001b[0m: attempted relative import with no known parent package"
     ]
    }
   ],
   "source": [
    "import copy\n",
    "import math\n",
    "import random\n",
    "import sys\n",
    "from distutils.util import strtobool\n",
    "from functools import lru_cache\n",
    "import numpy as np\n",
    "import torch\n",
    "import torch.nn as nn\n",
    "import torchaudio\n",
    "import yaml\n",
    "from torch.nn.utils.rnn import pad_sequence\n",
    "import s3prl.optimizers\n",
    "from ..baseline.extracter import get_extracter\n",
    "from ..baseline.preprocessor import get_preprocessor\n",
    "#from s3prl_master.s3prl.upstream.baseline.preprocessor import get_preprocessor\n",
    "#from .model import TransformerConfig, TransformerModel, TransformerSpecPredictionHead\n",
    "\n",
    "path='/home/negiryosuke/refine/s3prl/result/pretrain/George_0724_session1_30s_split_CommonAve_RegionLabel/states-300000.ckpt'\n",
    "load_weights = torch.load(path)\n",
    "#print(load_weights['Transformer'])\n",
    "\"\"\"\n",
    "options:{'load_pretrain': 'True', 'no_grad': 'False', 'dropout': 'default', 'spec_aug': 'False', \n",
    " 'spec_aug_prev': 'True', 'output_hidden_states': 'True', 'permute_input': 'False', \n",
    " 'ckpt_file': '/home/negiryosuke/refine/s3prl/result/pretrain/TERA_2/states-450000.ckpt', 'select_layer': -1}\n",
    "load_weights['Config'] {'runner': {'n_epochs': -1, 'total_steps': 700000, 'gradient_clipping': 5.0, 'gradient_accumulate_steps': 4, 'log_step': 100000, 'save_step': 100000, 'max_keep': 10, 'fp16': False}, 'optimizer': {'name': 'AdamW_with_schedule', 'lr': 0.0002, 'warmup_proportion': 0.07}, 'pretrain_expert': {'datarc': {'num_workers': 8, 'train_batch_size': 8, 'max_timestep': -25, 'libri_root': '/home/negiryosuke/refine/s3prl/ECoG_data/george_20120724_session1_CommonAve_ReginLabel/', 'file_path': '/home/negiryosuke/refine/s3prl/ECoG_data/george_20120724_session1_CommonAve_ReginLabel/E_data_len_for_bucket', 'sets': ['train']}}}\n",
    "load_weights['Upstream_Config'] {'transformer': {'input_dim': -1, 'hidden_size': 768, 'num_hidden_layers': 3, 'num_attention_heads': 12, 'intermediate_size': 3072, 'hidden_act': 'gelu', 'hidden_dropout_prob': 0.1, 'attention_probs_dropout_prob': 0.1, 'initializer_range': 0.02, 'layer_norm_eps': 1e-12, 'share_layer': False, 'pre_layer_norm': False}, 'task': {'loss': 'L1', 'sequence_length': 1500, 'position_encoding_size': 768, 'mask_proportion': 0.15, 'mask_consecutive_min': 7, 'mask_consecutive_max': 7, 'mask_allow_overlap': True, 'mask_bucket_ratio': 1.5, 'mask_frequency': 0.2, 'noise_proportion': 0.0}, 'audio': {'target_level': -25, 'win_ms': 25, 'hop_ms': 10, 'n_freq': 201, 'n_mels': 80, 'n_mfcc': 13, 'input': {'feat_type': 'mel', 'channel': 0, 'log': True, 'delta': 0, 'cmvn': True}, 'target': {'feat_type': 'mel', 'channel': 0, 'log': True, 'delta': 0, 'cmvn': True}}}\n",
    "self_config['audio'] {'target_level': -25, 'win_ms': 25, 'hop_ms': 10, 'n_freq': 201, 'n_mels': 80, 'n_mfcc': 13, 'input': {'feat_type': 'mel', 'channel': 0, 'log': True, 'delta': 0, 'cmvn': True}, 'target': {'feat_type': 'mel', 'channel': 0, 'log': True, 'delta': 0, 'cmvn': True}}\n",
    "\"\"\"\n",
    "self_config=load_weights['Upstream_Config']\n",
    "target_level=25\n",
    "\n",
    "def normalize_wav_decibel(wav):\n",
    "    rms=wav.pow(2).mean().pow(0.5)\n",
    "    scalar=(10**(target_level/20))/(rms+1e-10)\n",
    "    wav=wav*scalar\n",
    "    return wav\n",
    "\n",
    "def preprocess(x):\n",
    "    x=[normalize_wav_decibel(x_i) for x_i in x]\n",
    "    x_lens=[len(x_) for x_ in x]\n",
    "    x=pad_sequence(x,batch_first = True)\n",
    "    x=x.unsqueeze(1)\n",
    "    extracter,_,_ = get_preprocessor(self_config['audio'])\n",
    "    x=extracter(x,wav_len=x_lens)[0]\n",
    "    return x"
   ]
  },
  {
   "cell_type": "code",
   "execution_count": null,
   "id": "4df5fca0",
   "metadata": {},
   "outputs": [],
   "source": []
  }
 ],
 "metadata": {
  "kernelspec": {
   "display_name": "Python 3 (ipykernel)",
   "language": "python",
   "name": "python3"
  },
  "language_info": {
   "codemirror_mode": {
    "name": "ipython",
    "version": 3
   },
   "file_extension": ".py",
   "mimetype": "text/x-python",
   "name": "python",
   "nbconvert_exporter": "python",
   "pygments_lexer": "ipython3",
   "version": "3.9.7"
  }
 },
 "nbformat": 4,
 "nbformat_minor": 5
}
